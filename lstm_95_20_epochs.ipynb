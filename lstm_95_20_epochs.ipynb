{
  "nbformat": 4,
  "nbformat_minor": 0,
  "metadata": {
    "colab": {
      "name": "lstm_95.ipynb",
      "version": "0.3.2",
      "provenance": [],
      "include_colab_link": true
    },
    "kernelspec": {
      "name": "python3",
      "display_name": "Python 3"
    }
  },
  "cells": [
    {
      "cell_type": "markdown",
      "metadata": {
        "id": "view-in-github",
        "colab_type": "text"
      },
      "source": [
        "[View in Colaboratory](https://colab.research.google.com/github/meghamattikalli/lstm/blob/master/lstm_95_20_epochs.ipynb)"
      ]
    },
    {
      "metadata": {
        "id": "Kq5Mp1CHO6bZ",
        "colab_type": "code",
        "colab": {
          "resources": {
            "http://localhost:8080/nbextensions/google.colab/files.js": {
              "data": "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",
              "ok": true,
              "headers": [
                [
                  "content-type",
                  "application/javascript"
                ]
              ],
              "status": 200,
              "status_text": ""
            }
          },
          "base_uri": "https://localhost:8080/",
          "height": 142
        },
        "outputId": "babdc3b9-bbac-4017-d340-d517eaacf62c"
      },
      "cell_type": "code",
      "source": [
        "import os\n",
        "\n",
        "from google.colab import files\n",
        "uploaded = files.upload()"
      ],
      "execution_count": 1,
      "outputs": [
        {
          "output_type": "display_data",
          "data": {
            "text/html": [
              "\n",
              "     <input type=\"file\" id=\"files-692ddd90-c1ca-4a1c-b496-24993be75c95\" name=\"files[]\" multiple disabled />\n",
              "     <output id=\"result-692ddd90-c1ca-4a1c-b496-24993be75c95\">\n",
              "      Upload widget is only available when the cell has been executed in the\n",
              "      current browser session. Please rerun this cell to enable.\n",
              "      </output>\n",
              "      <script src=\"/nbextensions/google.colab/files.js\"></script> "
            ],
            "text/plain": [
              "<IPython.core.display.HTML object>"
            ]
          },
          "metadata": {
            "tags": []
          }
        },
        {
          "output_type": "stream",
          "text": [
            "Saving five_thousand.csv to five_thousand.csv\n",
            "Saving Indian-Female-Names1.csv to Indian-Female-Names1.csv\n",
            "Saving Indian-Male-Names1.csv to Indian-Male-Names1.csv\n"
          ],
          "name": "stdout"
        }
      ]
    },
    {
      "metadata": {
        "id": "26zae0z_OiwR",
        "colab_type": "code",
        "colab": {
          "base_uri": "https://localhost:8080/",
          "height": 2064
        },
        "outputId": "488feb00-c3ce-4d7c-d2b0-e9e82bc288b6"
      },
      "cell_type": "code",
      "source": [
        "# -*- coding: utf-8 -*-\n",
        "\"\"\"\n",
        "Created on Wed Aug 29 00:07:33 2018\n",
        "acc= 95.52\n",
        "20 epochs\n",
        "\n",
        "@author: HP\n",
        "\"\"\"\n",
        "\n",
        "\n",
        "from __future__ import print_function\n",
        "\n",
        "from sklearn.preprocessing import OneHotEncoder\n",
        "from keras.layers.core import Dense, Activation, Dropout\n",
        "from keras.preprocessing import sequence\n",
        "from keras.models import Sequential\n",
        "from keras.layers import Dense, Embedding\n",
        "from keras.layers import LSTM\n",
        "from keras.datasets import imdb\n",
        "import pandas as pd\n",
        "import numpy as np\n",
        "\n",
        "\n",
        "import io\n",
        "\n",
        "female = pd.read_csv(io.StringIO(uploaded['Indian-Female-Names1.csv'].decode('utf-8')))\n",
        "\n",
        "male = pd.read_csv(io.StringIO(uploaded['Indian-Male-Names1.csv'].decode('utf-8')))\n",
        "\n",
        "eng_word = pd.read_csv(io.StringIO(uploaded['five_thousand.csv'].decode('utf-8')))\n",
        "\n",
        "\n",
        "#parameters\n",
        "maxlen = 10\n",
        "labels = 2\n",
        "\n",
        "# Importing the dataset\n",
        "#female= pd.read_csv('Indian-Female-Names1.csv')\n",
        "#male= pd.read_csv('Indian-Male-Names1.csv')\n",
        "names=pd.concat([female,male], axis=0)\n",
        "names= names.apply(lambda x: x.astype(str).str.lower())\n",
        "names=names.iloc[:,0:1]\n",
        "names[\"type\"]=1\n",
        "names=names[names['word'].map(len) > 2]\n",
        "\n",
        "unwanted=['mr','.','moh.','@','miss','&','mrs','/','ku.','km',',','km0','-','(',')','smt','smt.','`','[','ms','1','2','3','4','5','6','7','8','9','0']\n",
        "for i in unwanted:\n",
        "    names['word'] = names.word.str.replace(i, '')\n",
        "names['word'] = names.word.str.strip()\n",
        "names=names.drop_duplicates(subset=['word'], keep='first')\n",
        "names['word'] = names.word.str.partition(\" \")\n",
        "\n",
        "\n",
        "#english words\n",
        "#eng_word = pd.read_csv('five_thousand.csv')\n",
        "eng_word = eng_word.apply(lambda x: x.astype(str).str.lower())\n",
        "eng_word['word'] = eng_word.word.str.replace('-', '')\n",
        "eng_word['word'] = eng_word.word.str.replace(\"'\", '')\n",
        "eng_word['word'] = eng_word.word.str.replace(\"/\", ' ')\n",
        "eng_word['word'] = eng_word.word.str.partition(\" \")\n",
        "\n",
        "\n",
        "#eng_pre = pd.read_csv('prepositions.csv')\n",
        "eng_word['type'] = 0\n",
        "#eng_pre['type'] = 0\n",
        "\n",
        "#concatenate names and english words\n",
        "dataset=pd.concat([names,eng_word], axis=0)\n",
        "dataset=dataset.dropna()\n",
        "\n",
        "dataset.index=[i for i in range(0,len(dataset.index))] #renaming the indices\n",
        "features = dataset['word']\n",
        "label = dataset['type']\n",
        "\n",
        "vocab = set(' '.join([str(i) for i in features]))\n",
        "\n",
        "vocab.add('END')\n",
        "len_vocab = len(vocab)\n",
        "\n",
        "print(vocab)\n",
        "print(\"vocab length is \",len_vocab)\n",
        "print (\"length of input is \",len(dataset))\n",
        "\n",
        "char_index = dict((c, i) for i, c in enumerate(vocab))\n",
        "\n",
        "print(char_index)\n",
        "\n",
        "\n",
        "#train test split\n",
        "msk = np.random.rand(len(dataset)) < 0.8\n",
        "train = dataset[msk]\n",
        "test = dataset[~msk]\n",
        "\n",
        "\n",
        "def set_flag(i):\n",
        "    tmp = np.zeros(28);\n",
        "    tmp[i] = 1\n",
        "    return(tmp)\n",
        "#take input upto max and truncate rest\n",
        "#encode to vector space(one hot encoding)\n",
        "#padd 'END' to shorter sequences\n",
        "#also convert each index to one-hot encoding\n",
        "train_X = []\n",
        "train_Y = []\n",
        "trunc_train_name = [str(i)[0:maxlen] for i in train.word]\n",
        "for i in trunc_train_name:\n",
        "    tmp = [set_flag(char_index[j]) for j in str(i)]\n",
        "    for k in range(0,maxlen - len(str(i))):\n",
        "        tmp.append(set_flag(char_index[\"END\"]))\n",
        "    train_X.append(tmp)\n",
        "for i in train.type:\n",
        "    if i == 0:\n",
        "        train_Y.append([1,0])\n",
        "    else:\n",
        "        train_Y.append([0,1])\n",
        "\n",
        "np.asarray(train_X).shape\n",
        "\n",
        "np.asarray(train_Y).shape\n",
        "\n",
        "\"\"\"#### build model in keras ( a stacked LSTM model with many-to-one arch ) here 30 sequence and 2 output each for one category(m/f)\"\"\"\n",
        "\n",
        "#build the model: 2 stacked LSTM\n",
        "print('Build model...')\n",
        "model = Sequential()\n",
        "model.add(LSTM(512, return_sequences=True, input_shape=(maxlen,len_vocab)))\n",
        "model.add(Dropout(0.2))\n",
        "model.add(LSTM(512, return_sequences=False))\n",
        "model.add(Dropout(0.2))\n",
        "model.add(Dense(2))\n",
        "model.add(Activation('softmax'))\n",
        "model.compile(loss='categorical_crossentropy', optimizer='adam',metrics=['accuracy'])\n",
        "\n",
        "test_X = []\n",
        "test_Y = []\n",
        "trunc_test_name = [str(i)[0:maxlen] for i in test.word]\n",
        "for i in trunc_test_name:\n",
        "    tmp = [set_flag(char_index[j]) for j in str(i)]\n",
        "    for k in range(0,maxlen - len(str(i))):\n",
        "        tmp.append(set_flag(char_index[\"END\"]))\n",
        "    test_X.append(tmp)\n",
        "for i in test.type:\n",
        "    if i == 0:\n",
        "        test_Y.append([1,0]) \n",
        "    else:\n",
        "        test_Y.append([0,1])\n",
        "        \n",
        "\n",
        "print(np.asarray(test_X).shape)\n",
        "print(np.asarray(test_Y).shape)\n",
        "\n",
        "train_X=np.array(train_X)\n",
        "train_Y=np.array(train_Y)\n",
        "test_Y=np.array(test_Y)\n",
        "test_X=np.array(test_X)\n",
        "\n",
        "\n",
        "batch_size=1000\n",
        "model.fit(train_X, train_Y,batch_size=batch_size,nb_epoch=20,validation_data=(test_X, test_Y))\n",
        "\n",
        "score, acc = model.evaluate(test_X, test_Y)\n",
        "print('Test score:', score)\n",
        "print('Test accuracy:', acc)\n",
        "\n",
        "\n"
      ],
      "execution_count": 2,
      "outputs": [
        {
          "output_type": "stream",
          "text": [
            "Using TensorFlow backend.\n"
          ],
          "name": "stderr"
        },
        {
          "output_type": "stream",
          "text": [
            "{'u', 'c', 'r', ' ', 'z', 'j', 's', 'd', 'o', 'g', 'i', 'v', 't', 'END', 'n', 'q', 'a', 'f', 'h', 'l', 'p', 'e', 'm', 'y', 'k', 'b', 'w', 'x'}\n",
            "vocab length is  28\n",
            "length of input is  18716\n",
            "{'u': 0, 'c': 1, 'r': 2, ' ': 3, 'z': 4, 'j': 5, 's': 6, 'd': 7, 'o': 8, 'g': 9, 'i': 10, 'v': 11, 't': 12, 'END': 13, 'n': 14, 'q': 15, 'a': 16, 'f': 17, 'h': 18, 'l': 19, 'p': 20, 'e': 21, 'm': 22, 'y': 23, 'k': 24, 'b': 25, 'w': 26, 'x': 27}\n",
            "Build model...\n",
            "(3750, 10, 28)\n",
            "(3750, 2)\n"
          ],
          "name": "stdout"
        },
        {
          "output_type": "stream",
          "text": [
            "/usr/local/lib/python3.6/dist-packages/keras/models.py:981: UserWarning: The `nb_epoch` argument in `fit` has been renamed `epochs`.\n",
            "  warnings.warn('The `nb_epoch` argument in `fit` '\n"
          ],
          "name": "stderr"
        },
        {
          "output_type": "stream",
          "text": [
            "Train on 14966 samples, validate on 3750 samples\n",
            "Epoch 1/50\n",
            "14966/14966 [==============================] - 78s 5ms/step - loss: 0.4910 - acc: 0.7420 - val_loss: 0.3626 - val_acc: 0.8437\n",
            "Epoch 2/50\n",
            "14966/14966 [==============================] - 74s 5ms/step - loss: 0.3493 - acc: 0.8480 - val_loss: 0.3244 - val_acc: 0.8576\n",
            "Epoch 3/50\n",
            "14966/14966 [==============================] - 75s 5ms/step - loss: 0.3211 - acc: 0.8598 - val_loss: 0.2961 - val_acc: 0.8752\n",
            "Epoch 4/50\n",
            "14966/14966 [==============================] - 75s 5ms/step - loss: 0.3036 - acc: 0.8700 - val_loss: 0.2757 - val_acc: 0.8907\n",
            "Epoch 5/50\n",
            "14966/14966 [==============================] - 76s 5ms/step - loss: 0.2835 - acc: 0.8818 - val_loss: 0.2617 - val_acc: 0.8952\n",
            "Epoch 6/50\n",
            "14966/14966 [==============================] - 74s 5ms/step - loss: 0.2724 - acc: 0.8887 - val_loss: 0.2493 - val_acc: 0.9016\n",
            "Epoch 7/50\n",
            "14966/14966 [==============================] - 74s 5ms/step - loss: 0.2613 - acc: 0.8946 - val_loss: 0.2554 - val_acc: 0.9045\n",
            "Epoch 8/50\n",
            "14966/14966 [==============================] - 74s 5ms/step - loss: 0.2448 - acc: 0.9026 - val_loss: 0.2267 - val_acc: 0.9136\n",
            "Epoch 9/50\n",
            "14966/14966 [==============================] - 74s 5ms/step - loss: 0.2330 - acc: 0.9063 - val_loss: 0.2224 - val_acc: 0.9165\n",
            "Epoch 10/50\n",
            "14966/14966 [==============================] - 75s 5ms/step - loss: 0.2254 - acc: 0.9115 - val_loss: 0.2016 - val_acc: 0.9229\n",
            "Epoch 11/50\n",
            "14966/14966 [==============================] - 75s 5ms/step - loss: 0.2058 - acc: 0.9194 - val_loss: 0.1865 - val_acc: 0.9291\n",
            "Epoch 12/50\n",
            "14966/14966 [==============================] - 75s 5ms/step - loss: 0.1945 - acc: 0.9224 - val_loss: 0.1941 - val_acc: 0.9181\n",
            "Epoch 13/50\n",
            "14966/14966 [==============================] - 75s 5ms/step - loss: 0.1878 - acc: 0.9263 - val_loss: 0.1766 - val_acc: 0.9309\n",
            "Epoch 14/50\n",
            "14966/14966 [==============================] - 75s 5ms/step - loss: 0.1770 - acc: 0.9322 - val_loss: 0.1750 - val_acc: 0.9336\n",
            "Epoch 15/50\n",
            "14966/14966 [==============================] - 75s 5ms/step - loss: 0.1765 - acc: 0.9320 - val_loss: 0.1741 - val_acc: 0.9347\n",
            "Epoch 16/50\n",
            "14966/14966 [==============================] - 76s 5ms/step - loss: 0.1684 - acc: 0.9351 - val_loss: 0.1887 - val_acc: 0.9229\n",
            "Epoch 17/50\n",
            "14966/14966 [==============================] - 76s 5ms/step - loss: 0.1674 - acc: 0.9359 - val_loss: 0.1630 - val_acc: 0.9379\n",
            "Epoch 18/50\n",
            "14966/14966 [==============================] - 76s 5ms/step - loss: 0.1558 - acc: 0.9409 - val_loss: 0.1622 - val_acc: 0.9365\n",
            "Epoch 19/50\n",
            "14966/14966 [==============================] - 75s 5ms/step - loss: 0.1489 - acc: 0.9431 - val_loss: 0.1641 - val_acc: 0.9363\n",
            "Epoch 20/50\n",
            "14966/14966 [==============================] - 75s 5ms/step - loss: 0.1494 - acc: 0.9441 - val_loss: 0.1653 - val_acc: 0.9416\n",
            "Epoch 21/50\n",
            "14966/14966 [==============================] - 75s 5ms/step - loss: 0.1467 - acc: 0.9447 - val_loss: 0.1575 - val_acc: 0.9435\n",
            "Epoch 22/50\n",
            "14966/14966 [==============================] - 76s 5ms/step - loss: 0.1386 - acc: 0.9480 - val_loss: 0.1552 - val_acc: 0.9403\n",
            "Epoch 23/50\n",
            "14966/14966 [==============================] - 75s 5ms/step - loss: 0.1334 - acc: 0.9482 - val_loss: 0.1510 - val_acc: 0.9435\n",
            "Epoch 24/50\n",
            "14966/14966 [==============================] - 75s 5ms/step - loss: 0.1301 - acc: 0.9514 - val_loss: 0.1469 - val_acc: 0.9451\n",
            "Epoch 25/50\n",
            "14966/14966 [==============================] - 75s 5ms/step - loss: 0.1256 - acc: 0.9541 - val_loss: 0.1606 - val_acc: 0.9376\n",
            "Epoch 26/50\n",
            "14966/14966 [==============================] - 75s 5ms/step - loss: 0.1324 - acc: 0.9500 - val_loss: 0.1532 - val_acc: 0.9413\n",
            "Epoch 27/50\n",
            "14966/14966 [==============================] - 75s 5ms/step - loss: 0.1223 - acc: 0.9540 - val_loss: 0.1376 - val_acc: 0.9493\n",
            "Epoch 28/50\n",
            "14966/14966 [==============================] - 75s 5ms/step - loss: 0.1160 - acc: 0.9571 - val_loss: 0.1498 - val_acc: 0.9435\n",
            "Epoch 29/50\n",
            "14966/14966 [==============================] - 75s 5ms/step - loss: 0.1164 - acc: 0.9574 - val_loss: 0.1486 - val_acc: 0.9445\n",
            "Epoch 30/50\n",
            "14966/14966 [==============================] - 76s 5ms/step - loss: 0.1139 - acc: 0.9558 - val_loss: 0.1349 - val_acc: 0.9515\n",
            "Epoch 31/50\n",
            "14966/14966 [==============================] - 75s 5ms/step - loss: 0.1049 - acc: 0.9613 - val_loss: 0.1423 - val_acc: 0.9496\n",
            "Epoch 32/50\n",
            "14966/14966 [==============================] - 75s 5ms/step - loss: 0.1041 - acc: 0.9621 - val_loss: 0.1412 - val_acc: 0.9472\n",
            "Epoch 33/50\n",
            "14966/14966 [==============================] - 75s 5ms/step - loss: 0.1022 - acc: 0.9628 - val_loss: 0.1337 - val_acc: 0.9485\n",
            "Epoch 34/50\n",
            "14966/14966 [==============================] - 76s 5ms/step - loss: 0.0937 - acc: 0.9651 - val_loss: 0.1444 - val_acc: 0.9515\n",
            "Epoch 35/50\n",
            "14966/14966 [==============================] - 75s 5ms/step - loss: 0.0944 - acc: 0.9648 - val_loss: 0.1389 - val_acc: 0.9531\n",
            "Epoch 36/50\n",
            "14966/14966 [==============================] - 75s 5ms/step - loss: 0.0885 - acc: 0.9653 - val_loss: 0.1560 - val_acc: 0.9459\n",
            "Epoch 37/50\n",
            "14966/14966 [==============================] - 75s 5ms/step - loss: 0.0971 - acc: 0.9642 - val_loss: 0.1463 - val_acc: 0.9483\n",
            "Epoch 38/50\n",
            "14966/14966 [==============================] - 76s 5ms/step - loss: 0.0870 - acc: 0.9675 - val_loss: 0.1426 - val_acc: 0.9515\n",
            "Epoch 39/50\n",
            "14966/14966 [==============================] - 76s 5ms/step - loss: 0.0764 - acc: 0.9713 - val_loss: 0.1505 - val_acc: 0.9533\n",
            "Epoch 40/50\n",
            "14966/14966 [==============================] - 76s 5ms/step - loss: 0.0824 - acc: 0.9695 - val_loss: 0.1371 - val_acc: 0.9541\n",
            "Epoch 41/50\n",
            "14966/14966 [==============================] - 75s 5ms/step - loss: 0.0795 - acc: 0.9702 - val_loss: 0.1396 - val_acc: 0.9539\n",
            "Epoch 42/50\n",
            "14966/14966 [==============================] - 76s 5ms/step - loss: 0.0704 - acc: 0.9751 - val_loss: 0.1453 - val_acc: 0.9523\n",
            "Epoch 43/50\n",
            "14966/14966 [==============================] - 75s 5ms/step - loss: 0.0677 - acc: 0.9738 - val_loss: 0.1472 - val_acc: 0.9509\n",
            "Epoch 44/50\n",
            "14966/14966 [==============================] - 75s 5ms/step - loss: 0.0756 - acc: 0.9714 - val_loss: 0.1382 - val_acc: 0.9547\n",
            "Epoch 45/50\n",
            "14966/14966 [==============================] - 75s 5ms/step - loss: 0.0693 - acc: 0.9737 - val_loss: 0.1552 - val_acc: 0.9544\n",
            "Epoch 46/50\n",
            "14966/14966 [==============================] - 75s 5ms/step - loss: 0.0651 - acc: 0.9757 - val_loss: 0.1526 - val_acc: 0.9576\n",
            "Epoch 47/50\n",
            "14966/14966 [==============================] - 76s 5ms/step - loss: 0.0621 - acc: 0.9770 - val_loss: 0.1487 - val_acc: 0.9531\n",
            "Epoch 48/50\n",
            "14966/14966 [==============================] - 75s 5ms/step - loss: 0.0532 - acc: 0.9807 - val_loss: 0.1570 - val_acc: 0.9589\n",
            "Epoch 49/50\n",
            "14966/14966 [==============================] - 75s 5ms/step - loss: 0.0567 - acc: 0.9791 - val_loss: 0.1464 - val_acc: 0.9557\n",
            "Epoch 50/50\n",
            "14966/14966 [==============================] - 75s 5ms/step - loss: 0.0530 - acc: 0.9808 - val_loss: 0.1513 - val_acc: 0.9555\n",
            "3750/3750 [==============================] - 11s 3ms/step\n",
            "Test score: 0.15133941113427282\n",
            "Test accuracy: 0.9554666666348776\n"
          ],
          "name": "stdout"
        }
      ]
    },
    {
      "metadata": {
        "id": "fXJRD2IgFn3S",
        "colab_type": "code",
        "colab": {
          "base_uri": "https://localhost:8080/",
          "height": 168
        },
        "outputId": "f9649a91-8e49-42a2-d588-9ac78a2318d0"
      },
      "cell_type": "code",
      "source": [
        "train_X"
      ],
      "execution_count": 1,
      "outputs": [
        {
          "output_type": "error",
          "ename": "NameError",
          "evalue": "ignored",
          "traceback": [
            "\u001b[0;31m---------------------------------------------------------------------------\u001b[0m",
            "\u001b[0;31mNameError\u001b[0m                                 Traceback (most recent call last)",
            "\u001b[0;32m<ipython-input-1-ee25ef03c42c>\u001b[0m in \u001b[0;36m<module>\u001b[0;34m()\u001b[0m\n\u001b[0;32m----> 1\u001b[0;31m \u001b[0mtrain_X\u001b[0m\u001b[0;34m\u001b[0m\u001b[0m\n\u001b[0m",
            "\u001b[0;31mNameError\u001b[0m: name 'train_X' is not defined"
          ]
        }
      ]
    }
  ]
}