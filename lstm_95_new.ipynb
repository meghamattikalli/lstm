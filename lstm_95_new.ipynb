{
  "nbformat": 4,
  "nbformat_minor": 0,
  "metadata": {
    "colab": {
      "name": "lstm_95_new.ipynb",
      "version": "0.3.2",
      "provenance": [],
      "collapsed_sections": [],
      "include_colab_link": true
    },
    "kernelspec": {
      "name": "python3",
      "display_name": "Python 3"
    }
  },
  "cells": [
    {
      "cell_type": "markdown",
      "metadata": {
        "id": "view-in-github",
        "colab_type": "text"
      },
      "source": [
        "[View in Colaboratory](https://colab.research.google.com/github/meghamattikalli/lstm/blob/master/lstm_95_new.ipynb)"
      ]
    },
    {
      "metadata": {
        "id": "Kq5Mp1CHO6bZ",
        "colab_type": "code",
        "colab": {
          "resources": {
            "http://localhost:8080/nbextensions/google.colab/files.js": {
              "data": "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",
              "ok": true,
              "headers": [
                [
                  "content-type",
                  "application/javascript"
                ]
              ],
              "status": 200,
              "status_text": ""
            }
          },
          "base_uri": "https://localhost:8080/",
          "height": 142
        },
        "outputId": "2b091720-79a0-47cf-8689-b6931868ceaf"
      },
      "cell_type": "code",
      "source": [
        "import os\n",
        "\n",
        "from google.colab import files\n",
        "uploaded = files.upload()"
      ],
      "execution_count": 1,
      "outputs": [
        {
          "output_type": "display_data",
          "data": {
            "text/html": [
              "\n",
              "     <input type=\"file\" id=\"files-81cc8707-08a8-4a6b-a011-9d12efadbda3\" name=\"files[]\" multiple disabled />\n",
              "     <output id=\"result-81cc8707-08a8-4a6b-a011-9d12efadbda3\">\n",
              "      Upload widget is only available when the cell has been executed in the\n",
              "      current browser session. Please rerun this cell to enable.\n",
              "      </output>\n",
              "      <script src=\"/nbextensions/google.colab/files.js\"></script> "
            ],
            "text/plain": [
              "<IPython.core.display.HTML object>"
            ]
          },
          "metadata": {
            "tags": []
          }
        },
        {
          "output_type": "stream",
          "text": [
            "Saving five_thousand.csv to five_thousand.csv\n",
            "Saving Indian-Female-Names1.csv to Indian-Female-Names1.csv\n",
            "Saving Indian-Male-Names1.csv to Indian-Male-Names1.csv\n"
          ],
          "name": "stdout"
        }
      ]
    },
    {
      "metadata": {
        "id": "26zae0z_OiwR",
        "colab_type": "code",
        "colab": {
          "base_uri": "https://localhost:8080/",
          "height": 2064
        },
        "outputId": "3ed646f2-670f-4f57-adef-240bace4ec16"
      },
      "cell_type": "code",
      "source": [
        "# -*- coding: utf-8 -*-\n",
        "\"\"\"\n",
        "Created on Wed Aug 29 00:07:33 2018\n",
        "acc= 95.52\n",
        "\n",
        "@author: HP\n",
        "\"\"\"\n",
        "\n",
        "\n",
        "from __future__ import print_function\n",
        "\n",
        "from sklearn.preprocessing import OneHotEncoder\n",
        "from keras.layers.core import Dense, Activation, Dropout\n",
        "from keras.preprocessing import sequence\n",
        "from keras.models import Sequential\n",
        "from keras.layers import Dense, Embedding\n",
        "from keras.layers import LSTM\n",
        "from keras.datasets import imdb\n",
        "import pandas as pd\n",
        "import numpy as np\n",
        "\n",
        "\n",
        "import io\n",
        "\n",
        "female = pd.read_csv(io.StringIO(uploaded['Indian-Female-Names1.csv'].decode('utf-8')))\n",
        "\n",
        "male = pd.read_csv(io.StringIO(uploaded['Indian-Male-Names1.csv'].decode('utf-8')))\n",
        "\n",
        "eng_word = pd.read_csv(io.StringIO(uploaded['five_thousand.csv'].decode('utf-8')))\n",
        "\n",
        "\n",
        "#parameters\n",
        "maxlen = 10\n",
        "labels = 2\n",
        "\n",
        "# Importing the dataset\n",
        "#female= pd.read_csv('Indian-Female-Names1.csv')\n",
        "#male= pd.read_csv('Indian-Male-Names1.csv')\n",
        "names=pd.concat([female,male], axis=0)\n",
        "names= names.apply(lambda x: x.astype(str).str.lower())\n",
        "names=names.iloc[:,0:1]\n",
        "names[\"type\"]=1\n",
        "names=names[names['word'].map(len) > 2]\n",
        "\n",
        "unwanted=['mr','.','moh.','@','miss','&','mrs','/','ku.','km',',','km0','-','(',')','smt','smt.','`','[','ms','1','2','3','4','5','6','7','8','9','0']\n",
        "for i in unwanted:\n",
        "    names['word'] = names.word.str.replace(i, '')\n",
        "names['word'] = names.word.str.strip()\n",
        "names=names.drop_duplicates(subset=['word'], keep='first')\n",
        "names['word'] = names.word.str.partition(\" \")\n",
        "\n",
        "\n",
        "#english words\n",
        "#eng_word = pd.read_csv('five_thousand.csv')\n",
        "eng_word = eng_word.apply(lambda x: x.astype(str).str.lower())\n",
        "eng_word['word'] = eng_word.word.str.replace('-', '')\n",
        "eng_word['word'] = eng_word.word.str.replace(\"'\", '')\n",
        "eng_word['word'] = eng_word.word.str.replace(\"/\", ' ')\n",
        "eng_word['word'] = eng_word.word.str.partition(\" \")\n",
        "\n",
        "\n",
        "#eng_pre = pd.read_csv('prepositions.csv')\n",
        "eng_word['type'] = 0\n",
        "#eng_pre['type'] = 0\n",
        "\n",
        "#concatenate names and english words\n",
        "dataset=pd.concat([names,eng_word], axis=0)\n",
        "dataset=dataset.dropna()\n",
        "\n",
        "dataset.index=[i for i in range(0,len(dataset.index))] #renaming the indices\n",
        "features = dataset['word']\n",
        "label = dataset['type']\n",
        "\n",
        "vocab = set(' '.join([str(i) for i in features]))\n",
        "\n",
        "vocab.add('END')\n",
        "len_vocab = len(vocab)\n",
        "\n",
        "print(vocab)\n",
        "print(\"vocab length is \",len_vocab)\n",
        "print (\"length of input is \",len(dataset))\n",
        "\n",
        "char_index = dict((c, i) for i, c in enumerate(vocab))\n",
        "\n",
        "print(char_index)\n",
        "\n",
        "\n",
        "#train test split\n",
        "msk = np.random.rand(len(dataset)) < 0.8\n",
        "train = dataset[msk]\n",
        "test = dataset[~msk]\n",
        "\n",
        "\n",
        "def set_flag(i):\n",
        "    tmp = np.zeros(28);\n",
        "    tmp[i] = 1\n",
        "    return(tmp)\n",
        "#take input upto max and truncate rest\n",
        "#encode to vector space(one hot encoding)\n",
        "#padd 'END' to shorter sequences\n",
        "#also convert each index to one-hot encoding\n",
        "train_X = []\n",
        "train_Y = []\n",
        "trunc_train_name = [str(i)[0:maxlen] for i in train.word]\n",
        "for i in trunc_train_name:\n",
        "    tmp = [set_flag(char_index[j]) for j in str(i)]\n",
        "    for k in range(0,maxlen - len(str(i))):\n",
        "        tmp.append(set_flag(char_index[\"END\"]))\n",
        "    train_X.append(tmp)\n",
        "for i in train.type:\n",
        "    if i == 0:\n",
        "        train_Y.append([1,0])\n",
        "    else:\n",
        "        train_Y.append([0,1])\n",
        "\n",
        "np.asarray(train_X).shape\n",
        "\n",
        "np.asarray(train_Y).shape\n",
        "\n",
        "\"\"\"#### build model in keras ( a stacked LSTM model with many-to-one arch ) here 30 sequence and 2 output each for one category(m/f)\"\"\"\n",
        "\n",
        "#build the model: 2 stacked LSTM\n",
        "print('Build model...')\n",
        "model = Sequential()\n",
        "model.add(LSTM(512, return_sequences=True, input_shape=(maxlen,len_vocab)))\n",
        "model.add(Dropout(0.2))\n",
        "model.add(LSTM(512, return_sequences=False))\n",
        "model.add(Dropout(0.2))\n",
        "model.add(Dense(2))\n",
        "model.add(Activation('softmax'))\n",
        "model.compile(loss='categorical_crossentropy', optimizer='adam',metrics=['accuracy'])\n",
        "\n",
        "test_X = []\n",
        "test_Y = []\n",
        "trunc_test_name = [str(i)[0:maxlen] for i in test.word]\n",
        "for i in trunc_test_name:\n",
        "    tmp = [set_flag(char_index[j]) for j in str(i)]\n",
        "    for k in range(0,maxlen - len(str(i))):\n",
        "        tmp.append(set_flag(char_index[\"END\"]))\n",
        "    test_X.append(tmp)\n",
        "for i in test.type:\n",
        "    if i == 0:\n",
        "        test_Y.append([1,0]) \n",
        "    else:\n",
        "        test_Y.append([0,1])\n",
        "        \n",
        "\n",
        "print(np.asarray(test_X).shape)\n",
        "print(np.asarray(test_Y).shape)\n",
        "\n",
        "train_X=np.array(train_X)\n",
        "train_Y=np.array(train_Y)\n",
        "test_Y=np.array(test_Y)\n",
        "test_X=np.array(test_X)\n",
        "\n",
        "\n",
        "batch_size=1000\n",
        "model.fit(train_X, train_Y,batch_size=batch_size,nb_epoch=50,validation_data=(test_X, test_Y))\n",
        "\n",
        "score, acc = model.evaluate(test_X, test_Y)\n",
        "print('Test score:', score)\n",
        "print('Test accuracy:', acc)\n",
        "\n",
        "\n"
      ],
      "execution_count": 2,
      "outputs": [
        {
          "output_type": "stream",
          "text": [
            "Using TensorFlow backend.\n"
          ],
          "name": "stderr"
        },
        {
          "output_type": "stream",
          "text": [
            "{'l', 'a', 'e', 'x', 'f', 'd', 'j', 'z', ' ', 'END', 'q', 't', 'w', 'p', 'b', 'r', 's', 'n', 'o', 'g', 'v', 'c', 'i', 'm', 'y', 'k', 'u', 'h'}\n",
            "vocab length is  28\n",
            "length of input is  18716\n",
            "{'l': 0, 'a': 1, 'e': 2, 'x': 3, 'f': 4, 'd': 5, 'j': 6, 'z': 7, ' ': 8, 'END': 9, 'q': 10, 't': 11, 'w': 12, 'p': 13, 'b': 14, 'r': 15, 's': 16, 'n': 17, 'o': 18, 'g': 19, 'v': 20, 'c': 21, 'i': 22, 'm': 23, 'y': 24, 'k': 25, 'u': 26, 'h': 27}\n",
            "Build model...\n",
            "(3775, 10, 28)\n",
            "(3775, 2)\n"
          ],
          "name": "stdout"
        },
        {
          "output_type": "stream",
          "text": [
            "/usr/local/lib/python3.6/dist-packages/keras/models.py:981: UserWarning: The `nb_epoch` argument in `fit` has been renamed `epochs`.\n",
            "  warnings.warn('The `nb_epoch` argument in `fit` '\n"
          ],
          "name": "stderr"
        },
        {
          "output_type": "stream",
          "text": [
            "Train on 14941 samples, validate on 3775 samples\n",
            "Epoch 1/50\n",
            "14941/14941 [==============================] - 72s 5ms/step - loss: 0.4829 - acc: 0.7811 - val_loss: 0.3699 - val_acc: 0.8442\n",
            "Epoch 2/50\n",
            "14941/14941 [==============================] - 69s 5ms/step - loss: 0.3506 - acc: 0.8468 - val_loss: 0.3301 - val_acc: 0.8585\n",
            "Epoch 3/50\n",
            "14941/14941 [==============================] - 70s 5ms/step - loss: 0.3200 - acc: 0.8580 - val_loss: 0.3007 - val_acc: 0.8736\n",
            "Epoch 4/50\n",
            "14941/14941 [==============================] - 70s 5ms/step - loss: 0.2963 - acc: 0.8755 - val_loss: 0.2772 - val_acc: 0.8866\n",
            "Epoch 5/50\n",
            "14941/14941 [==============================] - 70s 5ms/step - loss: 0.2837 - acc: 0.8845 - val_loss: 0.2705 - val_acc: 0.8885\n",
            "Epoch 6/50\n",
            "14941/14941 [==============================] - 71s 5ms/step - loss: 0.2713 - acc: 0.8907 - val_loss: 0.2494 - val_acc: 0.8999\n",
            "Epoch 7/50\n",
            "14941/14941 [==============================] - 72s 5ms/step - loss: 0.2587 - acc: 0.8941 - val_loss: 0.2474 - val_acc: 0.8964\n",
            "Epoch 8/50\n",
            "14941/14941 [==============================] - 71s 5ms/step - loss: 0.2437 - acc: 0.9005 - val_loss: 0.2284 - val_acc: 0.9128\n",
            "Epoch 9/50\n",
            "14941/14941 [==============================] - 70s 5ms/step - loss: 0.2233 - acc: 0.9105 - val_loss: 0.2124 - val_acc: 0.9152\n",
            "Epoch 10/50\n",
            "14941/14941 [==============================] - 69s 5ms/step - loss: 0.2114 - acc: 0.9155 - val_loss: 0.2096 - val_acc: 0.9187\n",
            "Epoch 11/50\n",
            "14941/14941 [==============================] - 73s 5ms/step - loss: 0.2004 - acc: 0.9216 - val_loss: 0.1989 - val_acc: 0.9242\n",
            "Epoch 12/50\n",
            "14941/14941 [==============================] - 73s 5ms/step - loss: 0.1859 - acc: 0.9297 - val_loss: 0.1886 - val_acc: 0.9240\n",
            "Epoch 13/50\n",
            "14941/14941 [==============================] - 71s 5ms/step - loss: 0.1752 - acc: 0.9349 - val_loss: 0.1767 - val_acc: 0.9295\n",
            "Epoch 14/50\n",
            "14941/14941 [==============================] - 71s 5ms/step - loss: 0.1713 - acc: 0.9355 - val_loss: 0.1769 - val_acc: 0.9306\n",
            "Epoch 15/50\n",
            "14941/14941 [==============================] - 71s 5ms/step - loss: 0.1712 - acc: 0.9348 - val_loss: 0.1970 - val_acc: 0.9256\n",
            "Epoch 16/50\n",
            "14941/14941 [==============================] - 70s 5ms/step - loss: 0.1694 - acc: 0.9345 - val_loss: 0.1854 - val_acc: 0.9332\n",
            "Epoch 17/50\n",
            "14941/14941 [==============================] - 69s 5ms/step - loss: 0.1656 - acc: 0.9379 - val_loss: 0.1763 - val_acc: 0.9340\n",
            "Epoch 18/50\n",
            "14941/14941 [==============================] - 71s 5ms/step - loss: 0.1535 - acc: 0.9434 - val_loss: 0.1680 - val_acc: 0.9351\n",
            "Epoch 19/50\n",
            "14941/14941 [==============================] - 71s 5ms/step - loss: 0.1474 - acc: 0.9455 - val_loss: 0.1607 - val_acc: 0.9380\n",
            "Epoch 20/50\n",
            "14941/14941 [==============================] - 70s 5ms/step - loss: 0.1427 - acc: 0.9481 - val_loss: 0.1950 - val_acc: 0.9332\n",
            "Epoch 21/50\n",
            "14941/14941 [==============================] - 70s 5ms/step - loss: 0.1453 - acc: 0.9444 - val_loss: 0.1646 - val_acc: 0.9370\n",
            "Epoch 22/50\n",
            "14941/14941 [==============================] - 71s 5ms/step - loss: 0.1443 - acc: 0.9481 - val_loss: 0.1565 - val_acc: 0.9401\n",
            "Epoch 23/50\n",
            "14941/14941 [==============================] - 71s 5ms/step - loss: 0.1323 - acc: 0.9499 - val_loss: 0.1606 - val_acc: 0.9420\n",
            "Epoch 24/50\n",
            "14941/14941 [==============================] - 71s 5ms/step - loss: 0.1313 - acc: 0.9524 - val_loss: 0.1543 - val_acc: 0.9470\n",
            "Epoch 25/50\n",
            "14941/14941 [==============================] - 71s 5ms/step - loss: 0.1248 - acc: 0.9538 - val_loss: 0.1636 - val_acc: 0.9380\n",
            "Epoch 26/50\n",
            "14941/14941 [==============================] - 71s 5ms/step - loss: 0.1248 - acc: 0.9540 - val_loss: 0.1519 - val_acc: 0.9423\n",
            "Epoch 27/50\n",
            "14941/14941 [==============================] - 71s 5ms/step - loss: 0.1175 - acc: 0.9538 - val_loss: 0.1605 - val_acc: 0.9446\n",
            "Epoch 28/50\n",
            "14941/14941 [==============================] - 71s 5ms/step - loss: 0.1151 - acc: 0.9577 - val_loss: 0.1542 - val_acc: 0.9425\n",
            "Epoch 29/50\n",
            "14941/14941 [==============================] - 72s 5ms/step - loss: 0.1123 - acc: 0.9578 - val_loss: 0.1455 - val_acc: 0.9454\n",
            "Epoch 30/50\n",
            "14941/14941 [==============================] - 71s 5ms/step - loss: 0.1076 - acc: 0.9607 - val_loss: 0.1406 - val_acc: 0.9475\n",
            "Epoch 31/50\n",
            "14941/14941 [==============================] - 72s 5ms/step - loss: 0.1097 - acc: 0.9586 - val_loss: 0.1496 - val_acc: 0.9473\n",
            "Epoch 32/50\n",
            "14941/14941 [==============================] - 71s 5ms/step - loss: 0.0974 - acc: 0.9647 - val_loss: 0.1445 - val_acc: 0.9478\n",
            "Epoch 33/50\n",
            "14941/14941 [==============================] - 71s 5ms/step - loss: 0.0990 - acc: 0.9629 - val_loss: 0.1491 - val_acc: 0.9436\n",
            "Epoch 34/50\n",
            "14941/14941 [==============================] - 70s 5ms/step - loss: 0.0952 - acc: 0.9653 - val_loss: 0.1405 - val_acc: 0.9510\n",
            "Epoch 35/50\n",
            "14941/14941 [==============================] - 70s 5ms/step - loss: 0.0919 - acc: 0.9649 - val_loss: 0.1488 - val_acc: 0.9462\n",
            "Epoch 36/50\n",
            "14941/14941 [==============================] - 69s 5ms/step - loss: 0.0950 - acc: 0.9641 - val_loss: 0.1417 - val_acc: 0.9473\n",
            "Epoch 37/50\n",
            "14941/14941 [==============================] - 71s 5ms/step - loss: 0.0879 - acc: 0.9684 - val_loss: 0.1357 - val_acc: 0.9497\n",
            "Epoch 38/50\n",
            "14941/14941 [==============================] - 71s 5ms/step - loss: 0.0885 - acc: 0.9675 - val_loss: 0.1460 - val_acc: 0.9478\n",
            "Epoch 39/50\n",
            "14941/14941 [==============================] - 70s 5ms/step - loss: 0.0858 - acc: 0.9673 - val_loss: 0.1368 - val_acc: 0.9473\n",
            "Epoch 40/50\n",
            "14941/14941 [==============================] - 70s 5ms/step - loss: 0.0819 - acc: 0.9685 - val_loss: 0.1440 - val_acc: 0.9555\n",
            "Epoch 41/50\n",
            "14941/14941 [==============================] - 70s 5ms/step - loss: 0.0795 - acc: 0.9721 - val_loss: 0.1585 - val_acc: 0.9510\n",
            "Epoch 42/50\n",
            "14941/14941 [==============================] - 73s 5ms/step - loss: 0.0747 - acc: 0.9738 - val_loss: 0.1496 - val_acc: 0.9526\n",
            "Epoch 43/50\n",
            "14941/14941 [==============================] - 72s 5ms/step - loss: 0.0679 - acc: 0.9754 - val_loss: 0.1642 - val_acc: 0.9513\n",
            "Epoch 44/50\n",
            "14941/14941 [==============================] - 72s 5ms/step - loss: 0.0692 - acc: 0.9757 - val_loss: 0.1467 - val_acc: 0.9550\n",
            "Epoch 45/50\n",
            "14941/14941 [==============================] - 73s 5ms/step - loss: 0.0648 - acc: 0.9755 - val_loss: 0.1630 - val_acc: 0.9526\n",
            "Epoch 46/50\n",
            "14941/14941 [==============================] - 72s 5ms/step - loss: 0.0633 - acc: 0.9770 - val_loss: 0.1566 - val_acc: 0.9505\n",
            "Epoch 47/50\n",
            "14941/14941 [==============================] - 73s 5ms/step - loss: 0.0642 - acc: 0.9750 - val_loss: 0.1753 - val_acc: 0.9497\n",
            "Epoch 48/50\n",
            "14941/14941 [==============================] - 72s 5ms/step - loss: 0.0632 - acc: 0.9760 - val_loss: 0.1517 - val_acc: 0.9550\n",
            "Epoch 49/50\n",
            "14941/14941 [==============================] - 71s 5ms/step - loss: 0.0581 - acc: 0.9789 - val_loss: 0.1801 - val_acc: 0.9502\n",
            "Epoch 50/50\n",
            "14941/14941 [==============================] - 72s 5ms/step - loss: 0.0581 - acc: 0.9791 - val_loss: 0.1881 - val_acc: 0.9552\n",
            "3775/3775 [==============================] - 10s 3ms/step\n",
            "Test score: 0.18806752976727062\n",
            "Test accuracy: 0.9552317881110488\n"
          ],
          "name": "stdout"
        }
      ]
    },
    {
      "metadata": {
        "id": "Xc4iC9hyhAVU",
        "colab_type": "code",
        "colab": {}
      },
      "cell_type": "code",
      "source": [
        "# Predicting the Test set results\n",
        "y_pred = model.predict(test_X)\n",
        "y_pred = (y_pred > 0.5)\n",
        "\n",
        "\n",
        "\n"
      ],
      "execution_count": 0,
      "outputs": []
    },
    {
      "metadata": {
        "id": "x_sg9UmoiRDG",
        "colab_type": "code",
        "colab": {}
      },
      "cell_type": "code",
      "source": [
        "# Making the Confusion Matrix\n",
        "from sklearn.metrics import confusion_matrix\n",
        "cm=confusion_matrix(test_Y.argmax(axis=1), y_pred.argmax(axis=1))\n",
        "#cm = confusion_matrix(test_Y, y_pred)"
      ],
      "execution_count": 0,
      "outputs": []
    },
    {
      "metadata": {
        "id": "3T-Unkb-iMqx",
        "colab_type": "code",
        "colab": {
          "base_uri": "https://localhost:8080/",
          "height": 52
        },
        "outputId": "6f4396d9-e66b-42b3-ec77-026d7f0f7392"
      },
      "cell_type": "code",
      "source": [
        "cm"
      ],
      "execution_count": 10,
      "outputs": [
        {
          "output_type": "execute_result",
          "data": {
            "text/plain": [
              "array([[ 905,  106],\n",
              "       [  63, 2701]])"
            ]
          },
          "metadata": {
            "tags": []
          },
          "execution_count": 10
        }
      ]
    },
    {
      "metadata": {
        "id": "AyMBiFdVivsC",
        "colab_type": "code",
        "colab": {
          "base_uri": "https://localhost:8080/",
          "height": 52
        },
        "outputId": "8cb5899b-c4e6-48a0-b639-b5d823d39051"
      },
      "cell_type": "code",
      "source": [
        "\n",
        "from sklearn.metrics import roc_auc_score, roc_curve, accuracy_score\n",
        "# Print model performance and plot the roc curve\n",
        "print('accuracy is {:.3f}'.format(accuracy_score(test_Y,y_pred)))\n",
        "print('roc-auc is {:.3f}'.format(roc_auc_score(test_Y,y_pred)))"
      ],
      "execution_count": 11,
      "outputs": [
        {
          "output_type": "stream",
          "text": [
            "accuracy is 0.955\n",
            "roc-auc is 0.936\n"
          ],
          "name": "stdout"
        }
      ]
    }
  ]
}