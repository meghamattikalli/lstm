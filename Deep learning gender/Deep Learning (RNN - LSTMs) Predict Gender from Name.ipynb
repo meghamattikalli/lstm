{
  "nbformat": 4,
  "nbformat_minor": 0,
  "metadata": {
    "colab": {
      "name": "Deep Learning (RNN - LSTMs) Predict Gender from Name.ipynb",
      "version": "0.3.2",
      "provenance": []
    },
    "kernelspec": {
      "name": "python3",
      "display_name": "Python 3"
    },
    "accelerator": "GPU"
  },
  "cells": [
    {
      "metadata": {
        "id": "jD5HCpwsR8ns",
        "colab_type": "text"
      },
      "cell_type": "markdown",
      "source": [
        "<h1 align=\"center\"> Deep Learning gender from name - RNN LSTMs </h1>"
      ]
    },
    {
      "metadata": {
        "id": "Sjd-OintR8n1",
        "colab_type": "text"
      },
      "cell_type": "markdown",
      "source": [
        "#### we will use an LSTM RNN to learn gender as f(name). we will use a stacked LSTM with many-to-one architecture feeding charecter inputs and predicting a binary outcome M/F. loss function used will be binary_crossentropy (a special case of categorical_crossentropy with m=2) and using adam optimizer (modified SGD) sample input /output would like this <br> ['r','a','k','e','s','h',' '] - male<br> ['p','r','a','d','e','e','p'] - male<br> ['g','a','n','g','a',' '] - female<br> and so on..."
      ]
    },
    {
      "metadata": {
        "id": "pLwHPEcXR8n4",
        "colab_type": "text"
      },
      "cell_type": "markdown",
      "source": [
        "<img src=\"https://github.com/meghamattikalli/Python/blob/master/Deep%20learning%20gender/LSTM_RNN_architecture.jpg?raw=1\" width=\"800\" height=\"600\"/>"
      ]
    },
    {
      "metadata": {
        "id": "9KaKhOc4R8n7",
        "colab_type": "raw"
      },
      "cell_type": "markdown",
      "source": [
        "regexp applied\n",
        "[^a-zA-Z0-9 ,.\\r\\n] = remove\n",
        "[ ]+ = ' '\n",
        "[^a-zA-Z ,.\\r\\n] = remove\n",
        "[ ]{3}+ - regex to check where 3 consecutive space occurs."
      ]
    },
    {
      "metadata": {
        "id": "x9mj49IZR8n9",
        "colab_type": "code",
        "colab": {
          "base_uri": "https://localhost:8080/",
          "height": 35
        },
        "outputId": "087b8090-90a0-4ce7-d1bf-35809bba85ad"
      },
      "cell_type": "code",
      "source": [
        "from __future__ import print_function\n",
        "\n",
        "from sklearn.preprocessing import OneHotEncoder\n",
        "from keras.layers.core import Dense, Activation, Dropout\n",
        "from keras.preprocessing import sequence\n",
        "from keras.models import Sequential\n",
        "from keras.layers import Dense, Embedding\n",
        "from keras.layers import LSTM\n",
        "from keras.datasets import imdb\n",
        "import pandas as pd\n",
        "import numpy as np\n",
        "import os"
      ],
      "execution_count": 1,
      "outputs": [
        {
          "output_type": "stream",
          "text": [
            "Using TensorFlow backend.\n"
          ],
          "name": "stderr"
        }
      ]
    },
    {
      "metadata": {
        "id": "2RuGGOGLR8oJ",
        "colab_type": "code",
        "colab": {}
      },
      "cell_type": "code",
      "source": [
        "#parameters\n",
        "maxlen = 30\n",
        "labels = 2"
      ],
      "execution_count": 0,
      "outputs": []
    },
    {
      "metadata": {
        "id": "PKg6LXADU6II",
        "colab_type": "code",
        "colab": {
          "resources": {
            "http://localhost:8080/nbextensions/google.colab/files.js": {
              "data": "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",
              "ok": true,
              "headers": [
                [
                  "content-type",
                  "application/javascript"
                ]
              ],
              "status": 200,
              "status_text": ""
            }
          },
          "base_uri": "https://localhost:8080/",
          "height": 73
        },
        "outputId": "7bce00c7-d682-49a9-f6c4-0bc2e2e6c0b6"
      },
      "cell_type": "code",
      "source": [
        "from google.colab import files\n",
        "uploaded = files.upload()"
      ],
      "execution_count": 4,
      "outputs": [
        {
          "output_type": "display_data",
          "data": {
            "text/html": [
              "\n",
              "     <input type=\"file\" id=\"files-865e926b-a9eb-4a84-833d-378169105be8\" name=\"files[]\" multiple disabled />\n",
              "     <output id=\"result-865e926b-a9eb-4a84-833d-378169105be8\">\n",
              "      Upload widget is only available when the cell has been executed in the\n",
              "      current browser session. Please rerun this cell to enable.\n",
              "      </output>\n",
              "      <script src=\"/nbextensions/google.colab/files.js\"></script> "
            ],
            "text/plain": [
              "<IPython.core.display.HTML object>"
            ]
          },
          "metadata": {
            "tags": []
          }
        },
        {
          "output_type": "stream",
          "text": [
            "Saving gender_class.csv to gender_class.csv\n"
          ],
          "name": "stdout"
        }
      ]
    },
    {
      "metadata": {
        "id": "yXUk-0e_R8oO",
        "colab_type": "code",
        "colab": {}
      },
      "cell_type": "code",
      "source": [
        "input = pd.read_csv(\"gender_class.csv\",header=None)\n",
        "input.columns = ['name','m_or_f']\n",
        "input['namelen']= [len(str(i)) for i in input['name']]\n",
        "input1 = input[(input['namelen'] >= 2) ]"
      ],
      "execution_count": 0,
      "outputs": []
    },
    {
      "metadata": {
        "id": "HDWiuY2ER8oS",
        "colab_type": "code",
        "colab": {
          "base_uri": "https://localhost:8080/",
          "height": 88
        },
        "outputId": "e6a89677-b5de-4af7-a13b-8f40be232c4d"
      },
      "cell_type": "code",
      "source": [
        "input1.groupby('m_or_f')['name'].count()"
      ],
      "execution_count": 6,
      "outputs": [
        {
          "output_type": "execute_result",
          "data": {
            "text/plain": [
              "m_or_f\n",
              "f    6705\n",
              "m    8475\n",
              "Name: name, dtype: int64"
            ]
          },
          "metadata": {
            "tags": []
          },
          "execution_count": 6
        }
      ]
    },
    {
      "metadata": {
        "id": "45KSSkXgR8oa",
        "colab_type": "code",
        "colab": {}
      },
      "cell_type": "code",
      "source": [
        "names = input['name']\n",
        "gender = input['m_or_f']\n",
        "vocab = set(' '.join([str(i) for i in names]))\n",
        "vocab.add('END')\n",
        "len_vocab = len(vocab)"
      ],
      "execution_count": 0,
      "outputs": []
    },
    {
      "metadata": {
        "id": "sT1wezi8R8oe",
        "colab_type": "code",
        "colab": {
          "base_uri": "https://localhost:8080/",
          "height": 70
        },
        "outputId": "1009f83a-9925-48de-9629-9f1c79b2d316"
      },
      "cell_type": "code",
      "source": [
        "print(vocab)\n",
        "print(\"vocab length is \",len_vocab)\n",
        "print (\"length of input is \",len(input1))"
      ],
      "execution_count": 8,
      "outputs": [
        {
          "output_type": "stream",
          "text": [
            "{'7', 's', 'w', 'i', '6', 'q', 'p', 'k', 'm', 'b', 'j', '4', '9', 'v', 'e', 'g', 'u', 'r', ' ', 'z', 'f', 'END', 'a', '.', 'x', 'c', '0', 't', '2', '1', 'o', '5', '3', 'y', '8', 'd', 'h', 'l', 'n'}\n",
            "vocab length is  39\n",
            "length of input is  15290\n"
          ],
          "name": "stdout"
        }
      ]
    },
    {
      "metadata": {
        "id": "CpetX9oeR8ok",
        "colab_type": "code",
        "colab": {}
      },
      "cell_type": "code",
      "source": [
        "char_index = dict((c, i) for i, c in enumerate(vocab))"
      ],
      "execution_count": 0,
      "outputs": []
    },
    {
      "metadata": {
        "id": "3FWfpKbcR8oo",
        "colab_type": "code",
        "colab": {
          "base_uri": "https://localhost:8080/",
          "height": 55
        },
        "outputId": "ccbf3248-32bb-4d01-cb0a-f4ece826d9b0"
      },
      "cell_type": "code",
      "source": [
        "print(char_index)"
      ],
      "execution_count": 10,
      "outputs": [
        {
          "output_type": "stream",
          "text": [
            "{'7': 0, 's': 1, 'w': 2, 'i': 3, '6': 4, 'q': 5, 'p': 6, 'k': 7, 'm': 8, 'b': 9, 'j': 10, '4': 11, '9': 12, 'v': 13, 'e': 14, 'g': 15, 'u': 16, 'r': 17, ' ': 18, 'z': 19, 'f': 20, 'END': 21, 'a': 22, '.': 23, 'x': 24, 'c': 25, '0': 26, 't': 27, '2': 28, '1': 29, 'o': 30, '5': 31, '3': 32, 'y': 33, '8': 34, 'd': 35, 'h': 36, 'l': 37, 'n': 38}\n"
          ],
          "name": "stdout"
        }
      ]
    },
    {
      "metadata": {
        "id": "8IjaQax-R8ot",
        "colab_type": "code",
        "colab": {}
      },
      "cell_type": "code",
      "source": [
        "#train test split\n",
        "msk = np.random.rand(len(input1)) < 0.8\n",
        "train = input1[msk]\n",
        "test = input1[~msk]     "
      ],
      "execution_count": 0,
      "outputs": []
    },
    {
      "metadata": {
        "id": "XRRojqKER8ow",
        "colab_type": "code",
        "colab": {}
      },
      "cell_type": "code",
      "source": [
        "#take input upto max and truncate rest\n",
        "#encode to vector space(one hot encoding)\n",
        "#padd 'END' to shorter sequences\n",
        "train_X = []\n",
        "trunc_train_name = [str(i)[0:30] for i in train.name]\n",
        "for i in trunc_train_name:\n",
        "    tmp = [char_index[j] for j in str(i)]\n",
        "    for k in range(0,maxlen - len(str(i))):\n",
        "        tmp.append(char_index[\"END\"])\n",
        "    train_X.append(tmp)"
      ],
      "execution_count": 0,
      "outputs": []
    },
    {
      "metadata": {
        "id": "jRHwCX7RR8oy",
        "colab_type": "code",
        "colab": {
          "base_uri": "https://localhost:8080/",
          "height": 35
        },
        "outputId": "b765ef7f-700a-47a0-ac62-c58e6b16f969"
      },
      "cell_type": "code",
      "source": [
        "np.asarray(train_X).shape"
      ],
      "execution_count": 13,
      "outputs": [
        {
          "output_type": "execute_result",
          "data": {
            "text/plain": [
              "(12207, 30)"
            ]
          },
          "metadata": {
            "tags": []
          },
          "execution_count": 13
        }
      ]
    },
    {
      "metadata": {
        "id": "QwUfnoK7R8o2",
        "colab_type": "code",
        "colab": {}
      },
      "cell_type": "code",
      "source": [
        "def set_flag(i):\n",
        "    tmp = np.zeros(39);\n",
        "    tmp[i] = 1\n",
        "    return(tmp)"
      ],
      "execution_count": 0,
      "outputs": []
    },
    {
      "metadata": {
        "id": "_Il0o3viR8o5",
        "colab_type": "code",
        "colab": {
          "base_uri": "https://localhost:8080/",
          "height": 70
        },
        "outputId": "8ff7c3e8-2257-4a1a-ffde-400229e7f723"
      },
      "cell_type": "code",
      "source": [
        "set_flag(3)"
      ],
      "execution_count": 15,
      "outputs": [
        {
          "output_type": "execute_result",
          "data": {
            "text/plain": [
              "array([0., 0., 0., 1., 0., 0., 0., 0., 0., 0., 0., 0., 0., 0., 0., 0., 0.,\n",
              "       0., 0., 0., 0., 0., 0., 0., 0., 0., 0., 0., 0., 0., 0., 0., 0., 0.,\n",
              "       0., 0., 0., 0., 0.])"
            ]
          },
          "metadata": {
            "tags": []
          },
          "execution_count": 15
        }
      ]
    },
    {
      "metadata": {
        "id": "DBizO7UgR8o8",
        "colab_type": "text"
      },
      "cell_type": "markdown",
      "source": [
        "#### modify the code above to also convert each index to one-hot encoded representation"
      ]
    },
    {
      "metadata": {
        "id": "dXjOdDzCR8o8",
        "colab_type": "code",
        "colab": {}
      },
      "cell_type": "code",
      "source": [
        "#take input upto max and truncate rest\n",
        "#encode to vector space(one hot encoding)\n",
        "#padd 'END' to shorter sequences\n",
        "#also convert each index to one-hot encoding\n",
        "train_X = []\n",
        "train_Y = []\n",
        "trunc_train_name = [str(i)[0:maxlen] for i in train.name]\n",
        "for i in trunc_train_name:\n",
        "    tmp = [set_flag(char_index[j]) for j in str(i)]\n",
        "    for k in range(0,maxlen - len(str(i))):\n",
        "        tmp.append(set_flag(char_index[\"END\"]))\n",
        "    train_X.append(tmp)\n",
        "for i in train.m_or_f:\n",
        "    if i == 'm':\n",
        "        train_Y.append([1,0])\n",
        "    else:\n",
        "        train_Y.append([0,1])\n",
        "    "
      ],
      "execution_count": 0,
      "outputs": []
    },
    {
      "metadata": {
        "id": "I5eo_8qGR8pB",
        "colab_type": "code",
        "colab": {
          "base_uri": "https://localhost:8080/",
          "height": 35
        },
        "outputId": "cdbb2615-3335-42ef-e57c-0f7a7a0b74c7"
      },
      "cell_type": "code",
      "source": [
        "np.asarray(train_X).shape"
      ],
      "execution_count": 17,
      "outputs": [
        {
          "output_type": "execute_result",
          "data": {
            "text/plain": [
              "(12207, 30, 39)"
            ]
          },
          "metadata": {
            "tags": []
          },
          "execution_count": 17
        }
      ]
    },
    {
      "metadata": {
        "id": "sl6BNRyJR8pF",
        "colab_type": "code",
        "colab": {
          "base_uri": "https://localhost:8080/",
          "height": 35
        },
        "outputId": "56f8dc1a-1f8a-4665-c9f7-7f3f641ad3b5"
      },
      "cell_type": "code",
      "source": [
        "np.asarray(train_Y).shape"
      ],
      "execution_count": 18,
      "outputs": [
        {
          "output_type": "execute_result",
          "data": {
            "text/plain": [
              "(12207, 2)"
            ]
          },
          "metadata": {
            "tags": []
          },
          "execution_count": 18
        }
      ]
    },
    {
      "metadata": {
        "id": "DOZ396S5R8pK",
        "colab_type": "text"
      },
      "cell_type": "markdown",
      "source": [
        "#### build model in keras ( a stacked LSTM model with many-to-one arch ) here 30 sequence and 2 output each for one category(m/f)"
      ]
    },
    {
      "metadata": {
        "id": "eONv3X9uR8pM",
        "colab_type": "code",
        "colab": {
          "base_uri": "https://localhost:8080/",
          "height": 35
        },
        "outputId": "31a84a01-b04c-4796-a99e-a1bf3af8b6c5"
      },
      "cell_type": "code",
      "source": [
        "#build the model: 2 stacked LSTM\n",
        "print('Build model...')\n",
        "model = Sequential()\n",
        "model.add(LSTM(512, return_sequences=True, input_shape=(maxlen,len_vocab)))\n",
        "model.add(Dropout(0.2))\n",
        "model.add(LSTM(512, return_sequences=False))\n",
        "model.add(Dropout(0.2))\n",
        "model.add(Dense(2))\n",
        "model.add(Activation('softmax'))\n",
        "model.compile(loss='categorical_crossentropy', optimizer='adam',metrics=['accuracy'])"
      ],
      "execution_count": 19,
      "outputs": [
        {
          "output_type": "stream",
          "text": [
            "Build model...\n"
          ],
          "name": "stdout"
        }
      ]
    },
    {
      "metadata": {
        "id": "ZpDbKGJWR8pU",
        "colab_type": "code",
        "colab": {}
      },
      "cell_type": "code",
      "source": [
        "test_X = []\n",
        "test_Y = []\n",
        "trunc_test_name = [str(i)[0:maxlen] for i in test.name]\n",
        "for i in trunc_test_name:\n",
        "    tmp = [set_flag(char_index[j]) for j in str(i)]\n",
        "    for k in range(0,maxlen - len(str(i))):\n",
        "        tmp.append(set_flag(char_index[\"END\"]))\n",
        "    test_X.append(tmp)\n",
        "for i in test.m_or_f:\n",
        "    if i == 'm':\n",
        "        test_Y.append([1,0])\n",
        "    else:\n",
        "        test_Y.append([0,1])\n",
        "    "
      ],
      "execution_count": 0,
      "outputs": []
    },
    {
      "metadata": {
        "id": "SqpgzfumR8pW",
        "colab_type": "code",
        "colab": {
          "base_uri": "https://localhost:8080/",
          "height": 52
        },
        "outputId": "cb9fbf38-cb55-41a9-b2ad-0c0a2ba78d5b"
      },
      "cell_type": "code",
      "source": [
        "print(np.asarray(test_X).shape)\n",
        "print(np.asarray(test_Y).shape)"
      ],
      "execution_count": 21,
      "outputs": [
        {
          "output_type": "stream",
          "text": [
            "(3083, 30, 39)\n",
            "(3083, 2)\n"
          ],
          "name": "stdout"
        }
      ]
    },
    {
      "metadata": {
        "id": "KmGPeh80R8pZ",
        "colab_type": "code",
        "colab": {},
        "outputId": "c107c3ad-062a-4dea-fa79-a38e6bcb9d86"
      },
      "cell_type": "code",
      "source": [
        "batch_size=1000\n",
        "model.fit(train_X, train_Y,batch_size=batch_size,nb_epoch=10,validation_data=(test_X, test_Y))"
      ],
      "execution_count": 0,
      "outputs": [
        {
          "output_type": "stream",
          "text": [
            "Train on 12198 samples, validate on 3028 samples\n",
            "Epoch 1/10\n",
            "12198/12198 [==============================] - 146s - loss: 0.5867 - acc: 0.6849 - val_loss: 0.5630 - val_acc: 0.7081\n",
            "Epoch 2/10\n",
            "12198/12198 [==============================] - 145s - loss: 0.5312 - acc: 0.7336 - val_loss: 0.5880 - val_acc: 0.6909\n",
            "Epoch 3/10\n",
            "12198/12198 [==============================] - 145s - loss: 0.5217 - acc: 0.7395 - val_loss: 0.4982 - val_acc: 0.7576\n",
            "Epoch 4/10\n",
            "12198/12198 [==============================] - 145s - loss: 0.4866 - acc: 0.7620 - val_loss: 0.4823 - val_acc: 0.7652\n",
            "Epoch 5/10\n",
            "12198/12198 [==============================] - 145s - loss: 0.4682 - acc: 0.7791 - val_loss: 0.4918 - val_acc: 0.7632\n",
            "Epoch 6/10\n",
            "12198/12198 [==============================] - 145s - loss: 0.4583 - acc: 0.7878 - val_loss: 0.4771 - val_acc: 0.7678\n",
            "Epoch 7/10\n",
            "12198/12198 [==============================] - 144s - loss: 0.4525 - acc: 0.7862 - val_loss: 0.4926 - val_acc: 0.7632\n",
            "Epoch 8/10\n",
            "12198/12198 [==============================] - 145s - loss: 0.4492 - acc: 0.7919 - val_loss: 0.4677 - val_acc: 0.7794\n",
            "Epoch 9/10\n",
            "12198/12198 [==============================] - 144s - loss: 0.4228 - acc: 0.8058 - val_loss: 0.4745 - val_acc: 0.7797\n",
            "Epoch 10/10\n",
            "12198/12198 [==============================] - 145s - loss: 0.4085 - acc: 0.8154 - val_loss: 0.4534 - val_acc: 0.7893\n"
          ],
          "name": "stdout"
        },
        {
          "output_type": "execute_result",
          "data": {
            "text/plain": [
              "<keras.callbacks.History at 0x7f5ff409ba10>"
            ]
          },
          "metadata": {
            "tags": []
          },
          "execution_count": 215
        }
      ]
    },
    {
      "metadata": {
        "id": "suBlrhQbR8pc",
        "colab_type": "code",
        "colab": {},
        "outputId": "6668c3ce-abd1-4be9-925b-99bd2dc73eca"
      },
      "cell_type": "code",
      "source": [
        "score, acc = model.evaluate(test_X, test_Y)\n",
        "print('Test score:', score)\n",
        "print('Test accuracy:', acc)"
      ],
      "execution_count": 0,
      "outputs": [
        {
          "output_type": "stream",
          "text": [
            "3028/3028 [==============================] - 16s    \n",
            "Test score: 0.453434576998\n",
            "Test accuracy: 0.789299867978\n"
          ],
          "name": "stdout"
        }
      ]
    },
    {
      "metadata": {
        "id": "jyrejv9HR8pf",
        "colab_type": "code",
        "colab": {}
      },
      "cell_type": "code",
      "source": [
        "name=[\"sandhya\",\"jaspreet\",\"rajesh\"]\n",
        "X=[]\n",
        "trunc_name = [i[0:maxlen] for i in name]\n",
        "for i in trunc_name:\n",
        "    tmp = [set_flag(char_index[j]) for j in str(i)]\n",
        "    for k in range(0,maxlen - len(str(i))):\n",
        "        tmp.append(set_flag(char_index[\"END\"]))\n",
        "    X.append(tmp)\n",
        "pred=model.predict(np.asarray(X))"
      ],
      "execution_count": 0,
      "outputs": []
    },
    {
      "metadata": {
        "id": "9Hqyu_mJR8pi",
        "colab_type": "code",
        "colab": {},
        "outputId": "fd6fa4a8-a4db-43ec-cdd5-eacab73de1de"
      },
      "cell_type": "code",
      "source": [
        "pred"
      ],
      "execution_count": 0,
      "outputs": [
        {
          "output_type": "execute_result",
          "data": {
            "text/plain": [
              "array([[ 0.62356585,  0.37643418],\n",
              "       [ 0.72094178,  0.27905828],\n",
              "       [ 0.90337974,  0.09662029]], dtype=float32)"
            ]
          },
          "metadata": {
            "tags": []
          },
          "execution_count": 289
        }
      ]
    },
    {
      "metadata": {
        "id": "hsspxIM4R8pk",
        "colab_type": "text"
      },
      "cell_type": "markdown",
      "source": [
        "#### Lets train more, clearly some very simple female names it doesnt get right like mentioned above (inspite it exists in training data)"
      ]
    },
    {
      "metadata": {
        "id": "VJycyc6VR8pk",
        "colab_type": "code",
        "colab": {
          "base_uri": "https://localhost:8080/",
          "height": 1866
        },
        "outputId": "783ca0f1-dffd-420e-8ed2-bbc84c39d736"
      },
      "cell_type": "code",
      "source": [
        "batch_size=1000\n",
        "model.fit(np.array(train_X), np.array(train_Y),batch_size=batch_size,nb_epoch=50,validation_data=(np.array(test_X),np.array(test_Y)))"
      ],
      "execution_count": 24,
      "outputs": [
        {
          "output_type": "stream",
          "text": [
            "/usr/local/lib/python3.6/dist-packages/keras/models.py:981: UserWarning: The `nb_epoch` argument in `fit` has been renamed `epochs`.\n",
            "  warnings.warn('The `nb_epoch` argument in `fit` '\n"
          ],
          "name": "stderr"
        },
        {
          "output_type": "stream",
          "text": [
            "Train on 12207 samples, validate on 3083 samples\n",
            "Epoch 1/50\n",
            "12207/12207 [==============================] - 10s 805us/step - loss: 0.6896 - acc: 0.5581 - val_loss: 0.6835 - val_acc: 0.5540\n",
            "Epoch 2/50\n",
            "12207/12207 [==============================] - 7s 588us/step - loss: 0.6591 - acc: 0.6025 - val_loss: 0.6106 - val_acc: 0.6776\n",
            "Epoch 3/50\n",
            "12207/12207 [==============================] - 7s 588us/step - loss: 0.6123 - acc: 0.6740 - val_loss: 0.5575 - val_acc: 0.7146\n",
            "Epoch 4/50\n",
            "12207/12207 [==============================] - 7s 590us/step - loss: 0.5728 - acc: 0.7100 - val_loss: 0.5307 - val_acc: 0.7340\n",
            "Epoch 5/50\n",
            "12207/12207 [==============================] - 7s 590us/step - loss: 0.5472 - acc: 0.7309 - val_loss: 0.5209 - val_acc: 0.7554\n",
            "Epoch 6/50\n",
            "12207/12207 [==============================] - 7s 590us/step - loss: 0.5182 - acc: 0.7506 - val_loss: 0.5202 - val_acc: 0.7489\n",
            "Epoch 7/50\n",
            "12207/12207 [==============================] - 7s 590us/step - loss: 0.5052 - acc: 0.7560 - val_loss: 0.4995 - val_acc: 0.7639\n",
            "Epoch 8/50\n",
            "12207/12207 [==============================] - 7s 588us/step - loss: 0.4915 - acc: 0.7659 - val_loss: 0.4809 - val_acc: 0.7778\n",
            "Epoch 9/50\n",
            "12207/12207 [==============================] - 7s 590us/step - loss: 0.4906 - acc: 0.7637 - val_loss: 0.4754 - val_acc: 0.7778\n",
            "Epoch 10/50\n",
            "12207/12207 [==============================] - 7s 589us/step - loss: 0.4795 - acc: 0.7711 - val_loss: 0.4754 - val_acc: 0.7749\n",
            "Epoch 11/50\n",
            "12207/12207 [==============================] - 7s 589us/step - loss: 0.4717 - acc: 0.7797 - val_loss: 0.5230 - val_acc: 0.7522\n",
            "Epoch 12/50\n",
            "12207/12207 [==============================] - 7s 589us/step - loss: 0.4806 - acc: 0.7748 - val_loss: 0.4621 - val_acc: 0.7888\n",
            "Epoch 13/50\n",
            "12207/12207 [==============================] - 7s 589us/step - loss: 0.4574 - acc: 0.7869 - val_loss: 0.4642 - val_acc: 0.7794\n",
            "Epoch 14/50\n",
            "12207/12207 [==============================] - 7s 590us/step - loss: 0.4495 - acc: 0.7939 - val_loss: 0.4591 - val_acc: 0.7869\n",
            "Epoch 15/50\n",
            "12207/12207 [==============================] - 7s 590us/step - loss: 0.4517 - acc: 0.7877 - val_loss: 0.4370 - val_acc: 0.8093\n",
            "Epoch 16/50\n",
            "12207/12207 [==============================] - 7s 589us/step - loss: 0.4427 - acc: 0.7992 - val_loss: 0.4378 - val_acc: 0.8025\n",
            "Epoch 17/50\n",
            "12207/12207 [==============================] - 7s 591us/step - loss: 0.4208 - acc: 0.8077 - val_loss: 0.4127 - val_acc: 0.8161\n",
            "Epoch 18/50\n",
            "12207/12207 [==============================] - 7s 588us/step - loss: 0.4034 - acc: 0.8206 - val_loss: 0.3915 - val_acc: 0.8320\n",
            "Epoch 19/50\n",
            "12207/12207 [==============================] - 7s 589us/step - loss: 0.3863 - acc: 0.8334 - val_loss: 0.3787 - val_acc: 0.8362\n",
            "Epoch 20/50\n",
            "12207/12207 [==============================] - 7s 588us/step - loss: 0.3772 - acc: 0.8399 - val_loss: 0.3569 - val_acc: 0.8492\n",
            "Epoch 21/50\n",
            "12207/12207 [==============================] - 7s 591us/step - loss: 0.3611 - acc: 0.8445 - val_loss: 0.3560 - val_acc: 0.8469\n",
            "Epoch 22/50\n",
            "12207/12207 [==============================] - 7s 591us/step - loss: 0.3574 - acc: 0.8522 - val_loss: 0.3518 - val_acc: 0.8488\n",
            "Epoch 23/50\n",
            "12207/12207 [==============================] - 7s 589us/step - loss: 0.3382 - acc: 0.8580 - val_loss: 0.3443 - val_acc: 0.8596\n",
            "Epoch 24/50\n",
            "12207/12207 [==============================] - 7s 589us/step - loss: 0.3251 - acc: 0.8656 - val_loss: 0.3428 - val_acc: 0.8586\n",
            "Epoch 25/50\n",
            "12207/12207 [==============================] - 7s 589us/step - loss: 0.3189 - acc: 0.8709 - val_loss: 0.3246 - val_acc: 0.8641\n",
            "Epoch 26/50\n",
            "12207/12207 [==============================] - 7s 589us/step - loss: 0.3129 - acc: 0.8688 - val_loss: 0.3362 - val_acc: 0.8686\n",
            "Epoch 27/50\n",
            "12207/12207 [==============================] - 7s 591us/step - loss: 0.3139 - acc: 0.8692 - val_loss: 0.3275 - val_acc: 0.8719\n",
            "Epoch 28/50\n",
            "12207/12207 [==============================] - 7s 589us/step - loss: 0.3081 - acc: 0.8711 - val_loss: 0.3231 - val_acc: 0.8683\n",
            "Epoch 29/50\n",
            "12207/12207 [==============================] - 7s 591us/step - loss: 0.2990 - acc: 0.8764 - val_loss: 0.3425 - val_acc: 0.8589\n",
            "Epoch 30/50\n",
            "12207/12207 [==============================] - 7s 589us/step - loss: 0.2977 - acc: 0.8794 - val_loss: 0.3247 - val_acc: 0.8680\n",
            "Epoch 31/50\n",
            "12207/12207 [==============================] - 7s 589us/step - loss: 0.2903 - acc: 0.8831 - val_loss: 0.3262 - val_acc: 0.8673\n",
            "Epoch 32/50\n",
            "12207/12207 [==============================] - 7s 590us/step - loss: 0.2832 - acc: 0.8825 - val_loss: 0.3323 - val_acc: 0.8706\n",
            "Epoch 33/50\n",
            "12207/12207 [==============================] - 7s 591us/step - loss: 0.2809 - acc: 0.8872 - val_loss: 0.3330 - val_acc: 0.8654\n",
            "Epoch 34/50\n",
            "12207/12207 [==============================] - 7s 590us/step - loss: 0.2767 - acc: 0.8883 - val_loss: 0.3173 - val_acc: 0.8754\n",
            "Epoch 35/50\n",
            "12207/12207 [==============================] - 7s 589us/step - loss: 0.2656 - acc: 0.8948 - val_loss: 0.3175 - val_acc: 0.8787\n",
            "Epoch 36/50\n",
            "12207/12207 [==============================] - 7s 590us/step - loss: 0.2677 - acc: 0.8924 - val_loss: 0.3175 - val_acc: 0.8761\n",
            "Epoch 37/50\n",
            "12207/12207 [==============================] - 7s 590us/step - loss: 0.2728 - acc: 0.8896 - val_loss: 0.3104 - val_acc: 0.8806\n",
            "Epoch 38/50\n",
            "12207/12207 [==============================] - 7s 589us/step - loss: 0.2666 - acc: 0.8937 - val_loss: 0.3125 - val_acc: 0.8816\n",
            "Epoch 39/50\n",
            "12207/12207 [==============================] - 7s 590us/step - loss: 0.2540 - acc: 0.8993 - val_loss: 0.3134 - val_acc: 0.8784\n",
            "Epoch 40/50\n",
            "12207/12207 [==============================] - 7s 590us/step - loss: 0.2565 - acc: 0.8963 - val_loss: 0.2995 - val_acc: 0.8813\n",
            "Epoch 41/50\n",
            "12207/12207 [==============================] - 7s 590us/step - loss: 0.2473 - acc: 0.9019 - val_loss: 0.3012 - val_acc: 0.8855\n",
            "Epoch 42/50\n",
            "12207/12207 [==============================] - 7s 590us/step - loss: 0.2365 - acc: 0.9050 - val_loss: 0.3253 - val_acc: 0.8871\n",
            "Epoch 43/50\n",
            "12207/12207 [==============================] - 7s 589us/step - loss: 0.2361 - acc: 0.9078 - val_loss: 0.3160 - val_acc: 0.8887\n",
            "Epoch 44/50\n",
            "12207/12207 [==============================] - 7s 590us/step - loss: 0.2369 - acc: 0.9060 - val_loss: 0.3462 - val_acc: 0.8732\n",
            "Epoch 45/50\n",
            "12207/12207 [==============================] - 7s 591us/step - loss: 0.2400 - acc: 0.9050 - val_loss: 0.3059 - val_acc: 0.8913\n",
            "Epoch 46/50\n",
            "12207/12207 [==============================] - 7s 589us/step - loss: 0.2270 - acc: 0.9110 - val_loss: 0.3293 - val_acc: 0.8839\n",
            "Epoch 47/50\n",
            "12207/12207 [==============================] - 7s 591us/step - loss: 0.2268 - acc: 0.9123 - val_loss: 0.3056 - val_acc: 0.8849\n",
            "Epoch 48/50\n",
            "12207/12207 [==============================] - 7s 591us/step - loss: 0.2226 - acc: 0.9124 - val_loss: 0.2986 - val_acc: 0.8926\n",
            "Epoch 49/50\n",
            "12207/12207 [==============================] - 7s 591us/step - loss: 0.2094 - acc: 0.9182 - val_loss: 0.3156 - val_acc: 0.8871\n",
            "Epoch 50/50\n",
            "12207/12207 [==============================] - 7s 592us/step - loss: 0.2106 - acc: 0.9182 - val_loss: 0.3280 - val_acc: 0.8917\n"
          ],
          "name": "stdout"
        },
        {
          "output_type": "execute_result",
          "data": {
            "text/plain": [
              "<keras.callbacks.History at 0x7fe947842b38>"
            ]
          },
          "metadata": {
            "tags": []
          },
          "execution_count": 24
        }
      ]
    },
    {
      "metadata": {
        "id": "9uyZ2b1AR8pp",
        "colab_type": "code",
        "colab": {
          "base_uri": "https://localhost:8080/",
          "height": 70
        },
        "outputId": "edfe4f95-9e01-4edc-8829-278b37403bf5"
      },
      "cell_type": "code",
      "source": [
        "score, acc = model.evaluate(np.array(test_X), np.array(test_Y))\n",
        "print('Test score:', score)\n",
        "print('Test accuracy:', acc)"
      ],
      "execution_count": 27,
      "outputs": [
        {
          "output_type": "stream",
          "text": [
            "3083/3083 [==============================] - 5s 1ms/step\n",
            "Test score: 0.327984836985645\n",
            "Test accuracy: 0.8916639636717483\n"
          ],
          "name": "stdout"
        }
      ]
    },
    {
      "metadata": {
        "id": "_5jDcU_yR8pt",
        "colab_type": "text"
      },
      "cell_type": "markdown",
      "source": [
        "<h3 align=\"center\"> lets look at the loss and accuracy chart as a function of epochs </h3><img src=\"https://github.com/meghamattikalli/Python/blob/master/Deep%20learning%20gender/loss_charts.bmp?raw=1\" alt=\"loss charts\" width=\"500\" height=\"350\"/><img src=\"https://github.com/meghamattikalli/Python/blob/master/Deep%20learning%20gender/acc_charts.bmp?raw=1\" alt=\"loss charts\"  width=\"500\" height=\"350\"/>"
      ]
    },
    {
      "metadata": {
        "id": "Y4ljUQxcR8pu",
        "colab_type": "code",
        "colab": {
          "base_uri": "https://localhost:8080/",
          "height": 177
        },
        "outputId": "4cd6c108-501d-4bd9-8f64-dfe27de49584"
      },
      "cell_type": "code",
      "source": [
        "name=[\"sandhya\",\"jaspreet\",\"rajesh\",\"kaveri\",\"aditi deepak\",\"arihant\",\"sasikala\",\"aditi\",\"ragini rajaram\"]\n",
        "X=[]\n",
        "trunc_name = [i[0:maxlen] for i in name]\n",
        "for i in trunc_name:\n",
        "    tmp = [set_flag(char_index[j]) for j in str(i)]\n",
        "    for k in range(0,maxlen - len(str(i))):\n",
        "        tmp.append(set_flag(char_index[\"END\"]))\n",
        "    X.append(tmp)\n",
        "pred=model.predict(np.asarray(X))\n",
        "pred"
      ],
      "execution_count": 28,
      "outputs": [
        {
          "output_type": "execute_result",
          "data": {
            "text/plain": [
              "array([[0.27531233, 0.7246877 ],\n",
              "       [0.18733713, 0.81266284],\n",
              "       [0.9639607 , 0.03603932],\n",
              "       [0.04885439, 0.95114565],\n",
              "       [0.00277486, 0.99722517],\n",
              "       [0.9625216 , 0.03747842],\n",
              "       [0.01076253, 0.9892374 ],\n",
              "       [0.15015286, 0.84984714],\n",
              "       [0.00635079, 0.9936492 ]], dtype=float32)"
            ]
          },
          "metadata": {
            "tags": []
          },
          "execution_count": 28
        }
      ]
    },
    {
      "metadata": {
        "id": "Qg-O9pI2R8py",
        "colab_type": "code",
        "colab": {
          "base_uri": "https://localhost:8080/",
          "height": 70
        },
        "outputId": "7886b513-832f-462d-e365-b277851a6d8d"
      },
      "cell_type": "code",
      "source": [
        "name=[\"abhi\",\"abhi deepak\",\"mr. abhi\"]\n",
        "X=[]\n",
        "trunc_name = [i[0:maxlen] for i in name]\n",
        "for i in trunc_name:\n",
        "    tmp = [set_flag(char_index[j]) for j in str(i)]\n",
        "    for k in range(0,maxlen - len(str(i))):\n",
        "        tmp.append(set_flag(char_index[\"END\"]))\n",
        "    X.append(tmp)\n",
        "pred=model.predict(np.asarray(X))\n",
        "pred"
      ],
      "execution_count": 30,
      "outputs": [
        {
          "output_type": "execute_result",
          "data": {
            "text/plain": [
              "array([[0.36553305, 0.6344669 ],\n",
              "       [0.8586825 , 0.14131747],\n",
              "       [0.9978422 , 0.00215775]], dtype=float32)"
            ]
          },
          "metadata": {
            "tags": []
          },
          "execution_count": 30
        }
      ]
    },
    {
      "metadata": {
        "id": "eJgAAf-TR8p0",
        "colab_type": "code",
        "colab": {
          "base_uri": "https://localhost:8080/",
          "height": 70
        },
        "outputId": "ac614e30-2f95-4b93-a753-ee3fb1cb7b13"
      },
      "cell_type": "code",
      "source": [
        "name=[\"rajini\",\"rajinikanth\",\"mr. rajini\"]\n",
        "X=[]\n",
        "trunc_name = [i[0:maxlen] for i in name]\n",
        "for i in trunc_name:\n",
        "    tmp = [set_flag(char_index[j]) for j in str(i)]\n",
        "    for k in range(0,maxlen - len(str(i))):\n",
        "        tmp.append(set_flag(char_index[\"END\"]))\n",
        "    X.append(tmp)\n",
        "pred=model.predict(np.asarray(X))\n",
        "pred"
      ],
      "execution_count": 31,
      "outputs": [
        {
          "output_type": "execute_result",
          "data": {
            "text/plain": [
              "array([[0.09317043, 0.9068296 ],\n",
              "       [0.88855636, 0.11144372],\n",
              "       [0.8764099 , 0.12359015]], dtype=float32)"
            ]
          },
          "metadata": {
            "tags": []
          },
          "execution_count": 31
        }
      ]
    },
    {
      "metadata": {
        "id": "ozJMCPocR8p3",
        "colab_type": "code",
        "colab": {}
      },
      "cell_type": "code",
      "source": [
        "#save our model and data\n",
        "model.save_weights('gender_model',overwrite=True)\n",
        "train.to_csv(\"train_split.csv\")\n",
        "test.to_csv(\"test_split.csv\")"
      ],
      "execution_count": 0,
      "outputs": []
    },
    {
      "metadata": {
        "id": "wfreRvQPR8p7",
        "colab_type": "code",
        "colab": {}
      },
      "cell_type": "code",
      "source": [
        "evals = model.predict(test_X)\n",
        "prob_m = [i[0] for i in evals]"
      ],
      "execution_count": 0,
      "outputs": []
    },
    {
      "metadata": {
        "id": "Y8nMbS-RR8p9",
        "colab_type": "code",
        "colab": {}
      },
      "cell_type": "code",
      "source": [
        "out = pd.DataFrame(prob_m)\n",
        "out['name'] = test.name.reset_index()['name']\n",
        "out['m_or_f']=test.m_or_f.reset_index()['m_or_f']"
      ],
      "execution_count": 0,
      "outputs": []
    },
    {
      "metadata": {
        "id": "ZjpjcpgKR8qB",
        "colab_type": "code",
        "colab": {}
      },
      "cell_type": "code",
      "source": [
        "out.head(10)\n",
        "out.columns = ['prob_m','name','actual']\n",
        "out.head(10)\n",
        "out.to_csv(\"gender_pred_out.csv\")"
      ],
      "execution_count": 0,
      "outputs": []
    },
    {
      "metadata": {
        "id": "ugHndlJSR8qC",
        "colab_type": "code",
        "colab": {}
      },
      "cell_type": "code",
      "source": [
        ""
      ],
      "execution_count": 0,
      "outputs": []
    }
  ]
}